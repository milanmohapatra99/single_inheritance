{
 "cells": [
  {
   "cell_type": "code",
   "execution_count": 2,
   "id": "e54e8670",
   "metadata": {},
   "outputs": [
    {
     "name": "stdout",
     "output_type": "stream",
     "text": [
      "This is an employee\n",
      "This is an programmer\n",
      "Microsoft\n"
     ]
    }
   ],
   "source": [
    "class Employee:\n",
    "    company = \"Microsoft\"\n",
    "    \n",
    "    def showDetails(self):\n",
    "        print(\"This is an employee\")\n",
    "        \n",
    "class Programmer(Employee):\n",
    "    language = \"python\"\n",
    "    \n",
    "            \n",
    "    def getLanguage(self):\n",
    "        print(f\"The Language is{self.language}\")\n",
    "        \n",
    "    def showDetails(self):\n",
    "        print(\"This is an programmer\")    \n",
    "e = Employee()\n",
    "e.showDetails()\n",
    "p = Programmer()\n",
    "p.showDetails()\n",
    "\n",
    "print(p.company)"
   ]
  },
  {
   "cell_type": "code",
   "execution_count": null,
   "id": "9ac60898",
   "metadata": {},
   "outputs": [],
   "source": []
  }
 ],
 "metadata": {
  "kernelspec": {
   "display_name": "Python 3 (ipykernel)",
   "language": "python",
   "name": "python3"
  },
  "language_info": {
   "codemirror_mode": {
    "name": "ipython",
    "version": 3
   },
   "file_extension": ".py",
   "mimetype": "text/x-python",
   "name": "python",
   "nbconvert_exporter": "python",
   "pygments_lexer": "ipython3",
   "version": "3.9.7"
  }
 },
 "nbformat": 4,
 "nbformat_minor": 5
}
